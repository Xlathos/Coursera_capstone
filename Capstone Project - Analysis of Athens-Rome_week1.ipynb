{
 "cells": [
  {
   "cell_type": "markdown",
   "metadata": {
    "collapsed": true
   },
   "source": [
    "<h1 align=center><font size = 5>Analysis and Comparison of the Cities of Athens and Rome </font></h1>"
   ]
  },
  {
   "cell_type": "markdown",
   "metadata": {},
   "source": [
    "<h2> Indrodution\n"
   ]
  },
  {
   "cell_type": "markdown",
   "metadata": {},
   "source": [
    "Athens and Rome are two of the most well known cities in the world. Athens and Rome, both cities of the \"South\" (Europe), with a population of over 2 million people, similar climate conditions and mentality, seem to share a lot in common. Through their long presence in human history, they share a glorious past, and have faced several disasters.  Athens and Rome . They both are the financial and political center of their respective countries. But how similar is living in Athens compared to Rome? Is there enough variery, or the recent financial crisis affected also the creativily of the market. Aim of this study will be to research, analyze and compare these two great cities, in order to answer the abovementioned questions."
   ]
  },
  {
   "cell_type": "markdown",
   "metadata": {},
   "source": [
    "<h2> Required Data"
   ]
  },
  {
   "cell_type": "markdown",
   "metadata": {},
   "source": [
    "Initialy all the necessary data will be gathered in order to have a grounf description of the two cities. The analysis and comparison of the two citied will be on the basis of their administrative subdivision, aka their municipalities. Athens is divided into 41 municipalities and Rome into 15. The above mentioned data will be scrapped from the internet (citypopulation.de and wikipedia respectively) and inserted into a panda dataframe. In order to use the Foursuare API it is necessary to aquire the coordinates of the municipalities. That information will be taken from the google search machine and will be inserted into a csv file, which will then be joined into the panda dataframe of the cities. Next step is the exploration of the venues in Athens and Rome through the Foursquare API. These data are important for the analysis which will follow."
   ]
  },
  {
   "cell_type": "code",
   "execution_count": null,
   "metadata": {},
   "outputs": [],
   "source": []
  }
 ],
 "metadata": {
  "kernelspec": {
   "display_name": "Python 3.6",
   "language": "python",
   "name": "python3"
  },
  "language_info": {
   "codemirror_mode": {
    "name": "ipython",
    "version": 3
   },
   "file_extension": ".py",
   "mimetype": "text/x-python",
   "name": "python",
   "nbconvert_exporter": "python",
   "pygments_lexer": "ipython3",
   "version": "3.6.9"
  }
 },
 "nbformat": 4,
 "nbformat_minor": 1
}
